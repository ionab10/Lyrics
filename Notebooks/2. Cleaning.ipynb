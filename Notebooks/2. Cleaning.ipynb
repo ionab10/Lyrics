{
 "cells": [
  {
   "cell_type": "code",
   "execution_count": 2,
   "metadata": {
    "scrolled": true
   },
   "outputs": [
    {
     "name": "stderr",
     "output_type": "stream",
     "text": [
      "C:\\Users\\ionab\\Anaconda3\\lib\\site-packages\\gensim\\utils.py:1167: UserWarning: detected Windows; aliasing chunkize to chunkize_serial\n",
      "  warnings.warn(\"detected Windows; aliasing chunkize to chunkize_serial\")\n"
     ]
    }
   ],
   "source": [
    "import pandas as pd\n",
    "from time import time\n",
    "import requests\n",
    "from bs4 import BeautifulSoup\n",
    "from gensim.models.doc2vec import Doc2Vec,TaggedDocument\n",
    "from gensim.utils import simple_preprocess\n",
    "import re\n",
    "from ast import literal_eval\n",
    "from collections import namedtuple, Counter\n",
    "from sklearn.manifold import TSNE\n",
    "tsne=TSNE()\n",
    "\n",
    "\n",
    "from sklearn.cluster import DBSCAN\n",
    "dbscan=DBSCAN()\n",
    "\n",
    "import plotly\n",
    "import plotly.plotly as py\n",
    "import plotly.graph_objs as go\n",
    "import seaborn as sns\n",
    "import numpy as np\n",
    "import random\n",
    "import json\n",
    "from titlecase import titlecase\n",
    "import matplotlib.pyplot as plt\n",
    "\n",
    "%matplotlib inline"
   ]
  },
  {
   "cell_type": "code",
   "execution_count": 3,
   "metadata": {
    "collapsed": true
   },
   "outputs": [],
   "source": [
    "with open('../creds.json') as f:\n",
    "    creds = json.load(f)\n",
    "\n",
    "plotly.tools.set_credentials_file(username='ionab10', api_key=creds['Plotly'])"
   ]
  },
  {
   "cell_type": "markdown",
   "metadata": {},
   "source": [
    "# Cleaning"
   ]
  },
  {
   "cell_type": "markdown",
   "metadata": {},
   "source": [
    "## Load Dataset"
   ]
  },
  {
   "cell_type": "code",
   "execution_count": 4,
   "metadata": {},
   "outputs": [
    {
     "name": "stdout",
     "output_type": "stream",
     "text": [
      "56550\n"
     ]
    },
    {
     "data": {
      "text/html": [
       "<div>\n",
       "<style>\n",
       "    .dataframe thead tr:only-child th {\n",
       "        text-align: right;\n",
       "    }\n",
       "\n",
       "    .dataframe thead th {\n",
       "        text-align: left;\n",
       "    }\n",
       "\n",
       "    .dataframe tbody tr th {\n",
       "        vertical-align: top;\n",
       "    }\n",
       "</style>\n",
       "<table border=\"1\" class=\"dataframe\">\n",
       "  <thead>\n",
       "    <tr style=\"text-align: right;\">\n",
       "      <th></th>\n",
       "      <th>language</th>\n",
       "      <th>artist</th>\n",
       "      <th>link</th>\n",
       "      <th>song</th>\n",
       "      <th>lyrics</th>\n",
       "      <th>release_date</th>\n",
       "      <th>album</th>\n",
       "      <th>genre</th>\n",
       "    </tr>\n",
       "    <tr>\n",
       "      <th>Unnamed: 0</th>\n",
       "      <th></th>\n",
       "      <th></th>\n",
       "      <th></th>\n",
       "      <th></th>\n",
       "      <th></th>\n",
       "      <th></th>\n",
       "      <th></th>\n",
       "      <th></th>\n",
       "    </tr>\n",
       "  </thead>\n",
       "  <tbody>\n",
       "    <tr>\n",
       "      <th>0</th>\n",
       "      <td>NaN</td>\n",
       "      <td>ABBA</td>\n",
       "      <td>/a/abba/shes+my+kind+of+girl_20598417.html</td>\n",
       "      <td>She's My Kind Of Girl</td>\n",
       "      <td>Look at her face, it's a wonderful face  \\r\\r\\...</td>\n",
       "      <td>1973.0</td>\n",
       "      <td>Ring Ring</td>\n",
       "      <td>Pop</td>\n",
       "    </tr>\n",
       "    <tr>\n",
       "      <th>1</th>\n",
       "      <td>NaN</td>\n",
       "      <td>ABBA</td>\n",
       "      <td>/a/abba/andante+andante_20002708.html</td>\n",
       "      <td>Andante, Andante</td>\n",
       "      <td>Take it easy with me, please  \\r\\r\\r\\r\\r\\r\\r\\r...</td>\n",
       "      <td>NaN</td>\n",
       "      <td>NaN</td>\n",
       "      <td>NaN</td>\n",
       "    </tr>\n",
       "    <tr>\n",
       "      <th>2</th>\n",
       "      <td>NaN</td>\n",
       "      <td>ABBA</td>\n",
       "      <td>/a/abba/as+good+as+new_20003033.html</td>\n",
       "      <td>As Good As New</td>\n",
       "      <td>I'll never know why I had to go  \\r\\r\\r\\r\\r\\r\\...</td>\n",
       "      <td>NaN</td>\n",
       "      <td>NaN</td>\n",
       "      <td>NaN</td>\n",
       "    </tr>\n",
       "    <tr>\n",
       "      <th>3</th>\n",
       "      <td>NaN</td>\n",
       "      <td>ABBA</td>\n",
       "      <td>/a/abba/bang_20598415.html</td>\n",
       "      <td>Bang</td>\n",
       "      <td>Making somebody happy is a question of give an...</td>\n",
       "      <td>1975.0</td>\n",
       "      <td>ABBA</td>\n",
       "      <td>Pop</td>\n",
       "    </tr>\n",
       "    <tr>\n",
       "      <th>4</th>\n",
       "      <td>NaN</td>\n",
       "      <td>ABBA</td>\n",
       "      <td>/a/abba/bang+a+boomerang_20002668.html</td>\n",
       "      <td>Bang-A-Boomerang</td>\n",
       "      <td>Making somebody happy is a question of give an...</td>\n",
       "      <td>1975.0</td>\n",
       "      <td>ABBA</td>\n",
       "      <td>Pop</td>\n",
       "    </tr>\n",
       "  </tbody>\n",
       "</table>\n",
       "</div>"
      ],
      "text/plain": [
       "           language artist                                        link  \\\n",
       "Unnamed: 0                                                               \n",
       "0               NaN   ABBA  /a/abba/shes+my+kind+of+girl_20598417.html   \n",
       "1               NaN   ABBA       /a/abba/andante+andante_20002708.html   \n",
       "2               NaN   ABBA        /a/abba/as+good+as+new_20003033.html   \n",
       "3               NaN   ABBA                  /a/abba/bang_20598415.html   \n",
       "4               NaN   ABBA      /a/abba/bang+a+boomerang_20002668.html   \n",
       "\n",
       "                             song  \\\n",
       "Unnamed: 0                          \n",
       "0           She's My Kind Of Girl   \n",
       "1                Andante, Andante   \n",
       "2                  As Good As New   \n",
       "3                            Bang   \n",
       "4                Bang-A-Boomerang   \n",
       "\n",
       "                                                       lyrics  release_date  \\\n",
       "Unnamed: 0                                                                    \n",
       "0           Look at her face, it's a wonderful face  \\r\\r\\...        1973.0   \n",
       "1           Take it easy with me, please  \\r\\r\\r\\r\\r\\r\\r\\r...           NaN   \n",
       "2           I'll never know why I had to go  \\r\\r\\r\\r\\r\\r\\...           NaN   \n",
       "3           Making somebody happy is a question of give an...        1975.0   \n",
       "4           Making somebody happy is a question of give an...        1975.0   \n",
       "\n",
       "                album genre  \n",
       "Unnamed: 0                   \n",
       "0           Ring Ring   Pop  \n",
       "1                 NaN   NaN  \n",
       "2                 NaN   NaN  \n",
       "3                ABBA   Pop  \n",
       "4                ABBA   Pop  "
      ]
     },
     "execution_count": 4,
     "metadata": {},
     "output_type": "execute_result"
    }
   ],
   "source": [
    "song_df=pd.read_csv(\"../Data/songdata_scraped.csv\",sep=',', encoding='utf-8')\n",
    "song_df.set_index('Unnamed: 0',inplace=True)\n",
    "song_df.sort_index(inplace=True)\n",
    "song_df.drop(['Unnamed: 0.1'], axis=1, inplace=True)\n",
    "print(len(song_df))\n",
    "song_df.head()"
   ]
  },
  {
   "cell_type": "markdown",
   "metadata": {},
   "source": [
    "### Columns\n",
    "\n",
    "Artist: The artist's name.\n",
    "<br>\n",
    "Album: The album title.\n",
    "<br>\n",
    "Release date: The year the song was released.\n",
    "<br>\n",
    "Lyrics: The plain-text lyrics for the song.\n",
    "<br>\n",
    "Language: The primary language of the lyrics.\n",
    "<br>\n",
    "Genre: The category of musical composition characterized by a particular style, form, or content. \n",
    "\n",
    "https://www.merriam-webster.com/dictionary/genre"
   ]
  },
  {
   "cell_type": "markdown",
   "metadata": {},
   "source": [
    "### Validating datatypes\n",
    "The song name, artist, lyrics, album and genre should all be strings, while the release_date should be an integer."
   ]
  },
  {
   "cell_type": "code",
   "execution_count": 5,
   "metadata": {},
   "outputs": [
    {
     "name": "stdout",
     "output_type": "stream",
     "text": [
      "language \t Counter({<class 'float'>: 42169, <class 'str'>: 14381})\n",
      "artist \t Counter({<class 'str'>: 56550})\n",
      "link \t Counter({<class 'str'>: 56550})\n",
      "song \t Counter({<class 'str'>: 56550})\n",
      "lyrics \t Counter({<class 'str'>: 56550})\n",
      "release_date \t Counter({<class 'numpy.float64'>: 56550})\n",
      "album \t Counter({<class 'str'>: 32833, <class 'float'>: 23717})\n",
      "genre \t Counter({<class 'str'>: 36423, <class 'float'>: 20127})\n"
     ]
    }
   ],
   "source": [
    "for col in song_df.columns:\n",
    "    print(col, '\\t', Counter([type(x) for x in song_df[col]]))"
   ]
  },
  {
   "cell_type": "markdown",
   "metadata": {},
   "source": [
    "Genre and album names were scraped for about two thirds of the dataset. Which explains the float (nan) values. Since the lyrics are the primary feature of the dataset, and the other features are only used for exploratory analysis and validation, we will accept a large proportion of missing values as we will assume they are randomly distributed. "
   ]
  },
  {
   "cell_type": "markdown",
   "metadata": {},
   "source": [
    "### Summary Statistics"
   ]
  },
  {
   "cell_type": "code",
   "execution_count": 6,
   "metadata": {},
   "outputs": [
    {
     "name": "stdout",
     "output_type": "stream",
     "text": [
      "artist\n",
      "# Observations (not incl. missing): 56550\n",
      "# Missing values: 0 \t% Missing values: 0.0%\n",
      "Mode: Bon Jovi \t\tMode %: 0.446\n",
      "2nd Mode: Bob Dylan \t\t2nd Mode %: 0.433\n",
      "Distinct values: 643\n",
      "[('Bon Jovi', 252), ('Bob Dylan', 245), ('Bing Crosby', 216), ('Bob Seger', 202), ('Black Sabbath', 192), ('Donna Summer', 191), ('Blur', 190), ('Alabama', 187), ('Cher', 187), ('Loretta Lynn', 187), ('Reba Mcentire', 187), ('Chaka Khan', 186)]\n",
      "\n",
      "\n",
      "genre\n",
      "# Observations (not incl. missing): 36423\n",
      "# Missing values: 20127 \t% Missing values: 35.592%\n",
      "Mode: nan \t\tMode %: 35.592\n",
      "2nd Mode: Pop \t\t2nd Mode %: 26.083\n",
      "Distinct values: 18\n",
      "[(nan, 20127), ('Pop', 14750), ('Rock', 10165), ('Other', 2175), ('Country', 2169), ('R&B', 1525), ('Hip-Hop/Rap', 1453), ('Metal', 1202), ('Folk', 706), ('Gospel', 456), ('Punk', 437), ('Jazz', 416)]\n",
      "\n",
      "\n",
      "album\n",
      "# Observations (not incl. missing): 32833\n",
      "# Missing values: 23717 \t% Missing values: 41.94%\n",
      "Mode: nan \t\tMode %: 41.94\n",
      "2nd Mode: Unreleased \t\t2nd Mode %: 0.106\n",
      "Distinct values: 7381\n",
      "[(nan, 23717), ('Unreleased', 60), ('These Days', 53), ('Circus', 32), ('Time', 31), ('The Album', 28), ('Unbreakable', 28), ('Stadium Arcadium', 28), ('Miscellaneous', 26), ('Take Me Home', 25), ('Have a Nice Day', 24), ('Sandinista!', 24)]\n",
      "\n",
      "\n"
     ]
    }
   ],
   "source": [
    "for col in ['artist', 'genre','album']:\n",
    "    counter=Counter(song_df[col])\n",
    "    n_obs=len(song_df)\n",
    "    missing=song_df[col].isnull().sum()\n",
    "    \n",
    "    print(col)\n",
    "    print('# Observations (not incl. missing):',n_obs-missing)\n",
    "    print('# Missing values:',missing, '\\t% Missing values: {}%'.format(round(missing/n_obs*100,3)))\n",
    "    print('Mode:', counter.most_common(1)[0][0], '\\t\\tMode %:', round(counter.most_common(1)[0][1]/n_obs*100,3))\n",
    "    try:\n",
    "        print('2nd Mode:', counter.most_common(2)[1][0], '\\t\\t2nd Mode %:', round(counter.most_common(2)[1][1]/n_obs*100,3))\n",
    "    except:\n",
    "        print('No 2nd Mode')\n",
    "    print('Distinct values:', len(counter))\n",
    "        \n",
    "    print(counter.most_common(12))\n",
    "    print('\\n')\n",
    "    "
   ]
  },
  {
   "cell_type": "code",
   "execution_count": 7,
   "metadata": {},
   "outputs": [
    {
     "name": "stdout",
     "output_type": "stream",
     "text": [
      "release_date\n",
      "# Observations (not incl. missing): 28314\n",
      "# Missing values: 28236 \t% Missing values: 49.931%\n"
     ]
    },
    {
     "data": {
      "text/plain": [
       "count    28314.000000\n",
       "mean      1992.838101\n",
       "std         13.899440\n",
       "min       1929.000000\n",
       "25%       1982.000000\n",
       "50%       1995.000000\n",
       "75%       2004.000000\n",
       "max       2018.000000\n",
       "Name: release_date, dtype: float64"
      ]
     },
     "execution_count": 7,
     "metadata": {},
     "output_type": "execute_result"
    }
   ],
   "source": [
    "col='release_date'\n",
    "n_obs=len(song_df)\n",
    "missing=song_df[col].isnull().sum()\n",
    "print(col)\n",
    "print('# Observations (not incl. missing):',n_obs-missing)\n",
    "print('# Missing values:',missing, '\\t% Missing values: {}%'.format(round(missing/n_obs*100,3)))\n",
    "song_df.release_date.describe()"
   ]
  },
  {
   "cell_type": "markdown",
   "metadata": {},
   "source": [
    "## Duplicates\n",
    "We will consider song title and artist as uniquely identifying features of a song and therefore remove duplicates based on these columns."
   ]
  },
  {
   "cell_type": "code",
   "execution_count": 8,
   "metadata": {},
   "outputs": [
    {
     "data": {
      "text/plain": [
       "56148"
      ]
     },
     "execution_count": 8,
     "metadata": {},
     "output_type": "execute_result"
    }
   ],
   "source": [
    "song_df.drop_duplicates(subset=['song', 'artist'],inplace=True)\n",
    "len(song_df)"
   ]
  },
  {
   "cell_type": "markdown",
   "metadata": {},
   "source": [
    "## Derived Variables \n",
    "* Song length: (number of words)"
   ]
  },
  {
   "cell_type": "code",
   "execution_count": 9,
   "metadata": {},
   "outputs": [
    {
     "data": {
      "text/html": [
       "<div>\n",
       "<style>\n",
       "    .dataframe thead tr:only-child th {\n",
       "        text-align: right;\n",
       "    }\n",
       "\n",
       "    .dataframe thead th {\n",
       "        text-align: left;\n",
       "    }\n",
       "\n",
       "    .dataframe tbody tr th {\n",
       "        vertical-align: top;\n",
       "    }\n",
       "</style>\n",
       "<table border=\"1\" class=\"dataframe\">\n",
       "  <thead>\n",
       "    <tr style=\"text-align: right;\">\n",
       "      <th></th>\n",
       "      <th>language</th>\n",
       "      <th>artist</th>\n",
       "      <th>link</th>\n",
       "      <th>song</th>\n",
       "      <th>lyrics</th>\n",
       "      <th>release_date</th>\n",
       "      <th>album</th>\n",
       "      <th>genre</th>\n",
       "      <th>song_length</th>\n",
       "    </tr>\n",
       "    <tr>\n",
       "      <th>Unnamed: 0</th>\n",
       "      <th></th>\n",
       "      <th></th>\n",
       "      <th></th>\n",
       "      <th></th>\n",
       "      <th></th>\n",
       "      <th></th>\n",
       "      <th></th>\n",
       "      <th></th>\n",
       "      <th></th>\n",
       "    </tr>\n",
       "  </thead>\n",
       "  <tbody>\n",
       "    <tr>\n",
       "      <th>0</th>\n",
       "      <td>NaN</td>\n",
       "      <td>ABBA</td>\n",
       "      <td>/a/abba/shes+my+kind+of+girl_20598417.html</td>\n",
       "      <td>She's My Kind Of Girl</td>\n",
       "      <td>Look at her face, it's a wonderful face  \\r\\r\\...</td>\n",
       "      <td>1973.0</td>\n",
       "      <td>Ring Ring</td>\n",
       "      <td>Pop</td>\n",
       "      <td>153</td>\n",
       "    </tr>\n",
       "    <tr>\n",
       "      <th>1</th>\n",
       "      <td>NaN</td>\n",
       "      <td>ABBA</td>\n",
       "      <td>/a/abba/andante+andante_20002708.html</td>\n",
       "      <td>Andante, Andante</td>\n",
       "      <td>Take it easy with me, please  \\r\\r\\r\\r\\r\\r\\r\\r...</td>\n",
       "      <td>NaN</td>\n",
       "      <td>NaN</td>\n",
       "      <td>NaN</td>\n",
       "      <td>260</td>\n",
       "    </tr>\n",
       "    <tr>\n",
       "      <th>2</th>\n",
       "      <td>NaN</td>\n",
       "      <td>ABBA</td>\n",
       "      <td>/a/abba/as+good+as+new_20003033.html</td>\n",
       "      <td>As Good As New</td>\n",
       "      <td>I'll never know why I had to go  \\r\\r\\r\\r\\r\\r\\...</td>\n",
       "      <td>NaN</td>\n",
       "      <td>NaN</td>\n",
       "      <td>NaN</td>\n",
       "      <td>312</td>\n",
       "    </tr>\n",
       "    <tr>\n",
       "      <th>3</th>\n",
       "      <td>NaN</td>\n",
       "      <td>ABBA</td>\n",
       "      <td>/a/abba/bang_20598415.html</td>\n",
       "      <td>Bang</td>\n",
       "      <td>Making somebody happy is a question of give an...</td>\n",
       "      <td>1975.0</td>\n",
       "      <td>ABBA</td>\n",
       "      <td>Pop</td>\n",
       "      <td>200</td>\n",
       "    </tr>\n",
       "    <tr>\n",
       "      <th>4</th>\n",
       "      <td>NaN</td>\n",
       "      <td>ABBA</td>\n",
       "      <td>/a/abba/bang+a+boomerang_20002668.html</td>\n",
       "      <td>Bang-A-Boomerang</td>\n",
       "      <td>Making somebody happy is a question of give an...</td>\n",
       "      <td>1975.0</td>\n",
       "      <td>ABBA</td>\n",
       "      <td>Pop</td>\n",
       "      <td>198</td>\n",
       "    </tr>\n",
       "  </tbody>\n",
       "</table>\n",
       "</div>"
      ],
      "text/plain": [
       "           language artist                                        link  \\\n",
       "Unnamed: 0                                                               \n",
       "0               NaN   ABBA  /a/abba/shes+my+kind+of+girl_20598417.html   \n",
       "1               NaN   ABBA       /a/abba/andante+andante_20002708.html   \n",
       "2               NaN   ABBA        /a/abba/as+good+as+new_20003033.html   \n",
       "3               NaN   ABBA                  /a/abba/bang_20598415.html   \n",
       "4               NaN   ABBA      /a/abba/bang+a+boomerang_20002668.html   \n",
       "\n",
       "                             song  \\\n",
       "Unnamed: 0                          \n",
       "0           She's My Kind Of Girl   \n",
       "1                Andante, Andante   \n",
       "2                  As Good As New   \n",
       "3                            Bang   \n",
       "4                Bang-A-Boomerang   \n",
       "\n",
       "                                                       lyrics  release_date  \\\n",
       "Unnamed: 0                                                                    \n",
       "0           Look at her face, it's a wonderful face  \\r\\r\\...        1973.0   \n",
       "1           Take it easy with me, please  \\r\\r\\r\\r\\r\\r\\r\\r...           NaN   \n",
       "2           I'll never know why I had to go  \\r\\r\\r\\r\\r\\r\\...           NaN   \n",
       "3           Making somebody happy is a question of give an...        1975.0   \n",
       "4           Making somebody happy is a question of give an...        1975.0   \n",
       "\n",
       "                album genre  song_length  \n",
       "Unnamed: 0                                \n",
       "0           Ring Ring   Pop          153  \n",
       "1                 NaN   NaN          260  \n",
       "2                 NaN   NaN          312  \n",
       "3                ABBA   Pop          200  \n",
       "4                ABBA   Pop          198  "
      ]
     },
     "execution_count": 9,
     "metadata": {},
     "output_type": "execute_result"
    }
   ],
   "source": [
    "song_df['song_length']=[len(lyrics.split()) for lyrics in song_df.lyrics]\n",
    "\n",
    "song_df.head()"
   ]
  },
  {
   "cell_type": "markdown",
   "metadata": {},
   "source": [
    "## Distributions"
   ]
  },
  {
   "cell_type": "markdown",
   "metadata": {},
   "source": [
    "### Song length"
   ]
  },
  {
   "cell_type": "code",
   "execution_count": 10,
   "metadata": {},
   "outputs": [
    {
     "data": {
      "text/plain": [
       "count    56148.000000\n",
       "mean       219.962011\n",
       "std        109.174001\n",
       "min         37.000000\n",
       "25%        145.000000\n",
       "50%        196.000000\n",
       "75%        264.000000\n",
       "max        827.000000\n",
       "Name: song_length, dtype: float64"
      ]
     },
     "execution_count": 10,
     "metadata": {},
     "output_type": "execute_result"
    },
    {
     "data": {
      "image/png": "[encoded data removed]",
      "text/plain": [
       "<matplotlib.figure.Figure at 0x227a62adf98>"
      ]
     },
     "metadata": {},
     "output_type": "display_data"
    }
   ],
   "source": [
    "sns.violinplot(y='song_length', data=song_df)\n",
    "song_df['song_length'].describe()"
   ]
  },
  {
   "cell_type": "markdown",
   "metadata": {},
   "source": [
    "Most songs don't have at most a few hundred words although we do see some quite long/\"wordy\" songs."
   ]
  },
  {
   "cell_type": "markdown",
   "metadata": {},
   "source": [
    "### Artists\n",
    "Here, we are checking to see if we have a wide variety of artists. Since there are too many artists to consider individually, we look at the distribution of first letters."
   ]
  },
  {
   "cell_type": "code",
   "execution_count": 11,
   "metadata": {},
   "outputs": [
    {
     "data": {
      "text/plain": [
       "Counter({\"'\": 1,\n",
       "         'A': 25,\n",
       "         'B': 27,\n",
       "         'C': 29,\n",
       "         'D': 28,\n",
       "         'E': 28,\n",
       "         'F': 25,\n",
       "         'G': 25,\n",
       "         'H': 20,\n",
       "         'I': 25,\n",
       "         'J': 28,\n",
       "         'K': 24,\n",
       "         'L': 26,\n",
       "         'M': 28,\n",
       "         'N': 24,\n",
       "         'O': 24,\n",
       "         'P': 29,\n",
       "         'Q': 16,\n",
       "         'R': 27,\n",
       "         'S': 28,\n",
       "         'T': 31,\n",
       "         'U': 23,\n",
       "         'V': 19,\n",
       "         'W': 27,\n",
       "         'X': 13,\n",
       "         'Y': 24,\n",
       "         'Z': 19})"
      ]
     },
     "execution_count": 11,
     "metadata": {},
     "output_type": "execute_result"
    }
   ],
   "source": [
    "artists=sorted(list(set(song_df.artist)))\n",
    "Counter([a[0] for a in artists])"
   ]
  },
  {
   "cell_type": "markdown",
   "metadata": {},
   "source": [
    "### Year"
   ]
  },
  {
   "cell_type": "code",
   "execution_count": 12,
   "metadata": {},
   "outputs": [
    {
     "data": {
      "image/png": "[encoded data removed]",
      "text/plain": [
       "<matplotlib.figure.Figure at 0x227abb2cc50>"
      ]
     },
     "metadata": {},
     "output_type": "display_data"
    }
   ],
   "source": [
    "plt.subplots(figsize=(20,10))\n",
    "temp=song_df.release_date.dropna().astype(int)\n",
    "counter=Counter(temp)\n",
    "idx=range(max(temp)-min(temp))\n",
    "plt.bar(idx, [counter[i] if i in counter.keys() else 0 for i in range(min(temp),max(temp))])\n",
    "plt.xticks(idx, range(min(temp),max(temp)), rotation=90)\n",
    "plt.show()"
   ]
  },
  {
   "cell_type": "markdown",
   "metadata": {},
   "source": [
    "The sampling across the release dates was not very uniform so we shall just take that into account as needed."
   ]
  },
  {
   "cell_type": "code",
   "execution_count": 16,
   "metadata": {},
   "outputs": [
    {
     "data": {
      "text/plain": [
       "1972.0"
      ]
     },
     "execution_count": 16,
     "metadata": {},
     "output_type": "execute_result"
    }
   ],
   "source": [
    "temp.quantile(0.1)"
   ]
  },
  {
   "cell_type": "markdown",
   "metadata": {},
   "source": [
    "### Genre\n",
    "Let's look at the distribution of genres in our dataset. We expect there to be a large amount of Pop and Rock as these are large genres of which many other genres are considered subsets of."
   ]
  },
  {
   "cell_type": "code",
   "execution_count": 24,
   "metadata": {},
   "outputs": [
    {
     "data": {
      "image/png": "[encoded data removed]",
      "text/plain": [
       "<matplotlib.figure.Figure at 0x1f949c84908>"
      ]
     },
     "metadata": {},
     "output_type": "display_data"
    }
   ],
   "source": [
    "plt.subplots(figsize=(10,5))\n",
    "temp=song_df.genre.dropna()\n",
    "counter=sorted(Counter(temp).items(), key=lambda x: x[1], reverse=True)\n",
    "plt.bar(np.arange(len(counter)), [x[1] for x in counter])\n",
    "plt.xticks(np.arange(len(counter)), [x[0] for x in counter], rotation=45)\n",
    "plt.title('Number of Songs of Each Genre')\n",
    "plt.xlabel('Genre')\n",
    "plt.savefig('../Figures/genre_count.pdf')\n",
    "plt.show()"
   ]
  },
  {
   "cell_type": "markdown",
   "metadata": {},
   "source": [
    "For example, Electronic is often considered a sub-genre of Pop. This means that many songs that were simply tagged 'Pop' may in fact be electronic. This makes genre tagging tricky because there is not really a hard line between some of these genres."
   ]
  },
  {
   "cell_type": "markdown",
   "metadata": {},
   "source": [
    "### Artist vs Genre"
   ]
  },
  {
   "cell_type": "code",
   "execution_count": 25,
   "metadata": {},
   "outputs": [
    {
     "data": {
      "text/plain": [
       "Counter({0: 38, 1: 83, 2: 167, 3: 154, 4: 109, 5: 60, 6: 14, 7: 9, 8: 4, 9: 5})"
      ]
     },
     "execution_count": 25,
     "metadata": {},
     "output_type": "execute_result"
    }
   ],
   "source": [
    "genres_per_artist=song_df.loc[:,['artist','genre']].groupby('artist').nunique()['genre']\n",
    "Counter(genres_per_artist)"
   ]
  },
  {
   "cell_type": "code",
   "execution_count": 39,
   "metadata": {},
   "outputs": [
    {
     "data": {
      "text/html": [
       "<div>\n",
       "<style>\n",
       "    .dataframe thead tr:only-child th {\n",
       "        text-align: right;\n",
       "    }\n",
       "\n",
       "    .dataframe thead th {\n",
       "        text-align: left;\n",
       "    }\n",
       "\n",
       "    .dataframe tbody tr th {\n",
       "        vertical-align: top;\n",
       "    }\n",
       "</style>\n",
       "<table border=\"1\" class=\"dataframe\">\n",
       "  <thead>\n",
       "    <tr style=\"text-align: right;\">\n",
       "      <th></th>\n",
       "      <th>genre</th>\n",
       "    </tr>\n",
       "    <tr>\n",
       "      <th>artist</th>\n",
       "      <th></th>\n",
       "    </tr>\n",
       "  </thead>\n",
       "  <tbody>\n",
       "    <tr>\n",
       "      <th>Bob Dylan</th>\n",
       "      <td>{nan, Country, Other, Jazz, Pop, Holiday, Rock...</td>\n",
       "    </tr>\n",
       "    <tr>\n",
       "      <th>Cyndi Lauper</th>\n",
       "      <td>{nan, Other, Jazz, Electronic, Hip-Hop/Rap, Po...</td>\n",
       "    </tr>\n",
       "    <tr>\n",
       "      <th>Donna Summer</th>\n",
       "      <td>{nan, Other, Jazz, Electronic, Pop, Holiday, B...</td>\n",
       "    </tr>\n",
       "    <tr>\n",
       "      <th>Johnny Cash</th>\n",
       "      <td>{nan, Country, Jazz, Pop, Holiday, Rock, Blues...</td>\n",
       "    </tr>\n",
       "    <tr>\n",
       "      <th>Leonard Cohen</th>\n",
       "      <td>{nan, Other, Country, Electronic, Pop, Rock, B...</td>\n",
       "    </tr>\n",
       "    <tr>\n",
       "      <th>Linda Ronstadt</th>\n",
       "      <td>{nan, Country, Other, Jazz, Pop, Holiday, Rock...</td>\n",
       "    </tr>\n",
       "    <tr>\n",
       "      <th>Nat King Cole</th>\n",
       "      <td>{nan, Country, Jazz, Other, Classical, Pop, Ho...</td>\n",
       "    </tr>\n",
       "    <tr>\n",
       "      <th>Nina Simone</th>\n",
       "      <td>{nan, Other, Jazz, Hip-Hop/Rap, Pop, Rock, Non...</td>\n",
       "    </tr>\n",
       "    <tr>\n",
       "      <th>Perry Como</th>\n",
       "      <td>{nan, Other, Jazz, Classical, Hip-Hop/Rap, Pop...</td>\n",
       "    </tr>\n",
       "    <tr>\n",
       "      <th>Tracy Chapman</th>\n",
       "      <td>{nan, Other, Country, Holiday, Pop, Rock, Blue...</td>\n",
       "    </tr>\n",
       "  </tbody>\n",
       "</table>\n",
       "</div>"
      ],
      "text/plain": [
       "                                                            genre\n",
       "artist                                                           \n",
       "Bob Dylan       {nan, Country, Other, Jazz, Pop, Holiday, Rock...\n",
       "Cyndi Lauper    {nan, Other, Jazz, Electronic, Hip-Hop/Rap, Po...\n",
       "Donna Summer    {nan, Other, Jazz, Electronic, Pop, Holiday, B...\n",
       "Johnny Cash     {nan, Country, Jazz, Pop, Holiday, Rock, Blues...\n",
       "Leonard Cohen   {nan, Other, Country, Electronic, Pop, Rock, B...\n",
       "Linda Ronstadt  {nan, Country, Other, Jazz, Pop, Holiday, Rock...\n",
       "Nat King Cole   {nan, Country, Jazz, Other, Classical, Pop, Ho...\n",
       "Nina Simone     {nan, Other, Jazz, Hip-Hop/Rap, Pop, Rock, Non...\n",
       "Perry Como      {nan, Other, Jazz, Classical, Hip-Hop/Rap, Pop...\n",
       "Tracy Chapman   {nan, Other, Country, Holiday, Pop, Rock, Blue..."
      ]
     },
     "execution_count": 39,
     "metadata": {},
     "output_type": "execute_result"
    }
   ],
   "source": [
    "temp=list(genres_per_artist.sort_values(ascending=False)[:10].index)\n",
    "song_df[song_df['artist'].isin(temp)].loc[:,['artist','genre']].groupby('artist').agg({'genre': lambda x: set(x)})"
   ]
  },
  {
   "cell_type": "markdown",
   "metadata": {},
   "source": [
    "In general, each artist specialises in only a few genres (some genres may overlap). However, artists such as Bob Dylan have been known to sing many genres."
   ]
  },
  {
   "cell_type": "markdown",
   "metadata": {},
   "source": [
    "### Song length vs genre\n"
   ]
  },
  {
   "cell_type": "code",
   "execution_count": 40,
   "metadata": {},
   "outputs": [
    {
     "data": {
      "image/png": "[encoded data removed]",
      "text/plain": [
       "<matplotlib.figure.Figure at 0x1f949e35da0>"
      ]
     },
     "metadata": {},
     "output_type": "display_data"
    }
   ],
   "source": [
    "plt.subplots(figsize=(10,5))\n",
    "sns.violinplot('genre','song_length', data=song_df)\n",
    "plt.xticks(rotation=45)\n",
    "plt.title('Song-length by Genre')\n",
    "plt.xlabel('Genre')\n",
    "plt.ylabel('# of Words')\n",
    "plt.savefig('../Figures/wordcount_bygenre.pdf')"
   ]
  },
  {
   "cell_type": "markdown",
   "metadata": {},
   "source": [
    "Hip-hop/rap songs tend to have more words because the singers speak faster."
   ]
  },
  {
   "cell_type": "markdown",
   "metadata": {},
   "source": [
    "## Save as new csv"
   ]
  },
  {
   "cell_type": "code",
   "execution_count": 41,
   "metadata": {
    "collapsed": true
   },
   "outputs": [],
   "source": [
    "song_df.to_csv('../Data/songdata_clean.csv',sep=',', encoding='utf-8' )"
   ]
  },
  {
   "cell_type": "code",
   "execution_count": null,
   "metadata": {
    "collapsed": true
   },
   "outputs": [],
   "source": []
  }
 ],
 "metadata": {
  "kernelspec": {
   "display_name": "Python 3",
   "language": "python",
   "name": "python3"
  },
  "language_info": {
   "codemirror_mode": {
    "name": "ipython",
    "version": 3
   },
   "file_extension": ".py",
   "mimetype": "text/x-python",
   "name": "python",
   "nbconvert_exporter": "python",
   "pygments_lexer": "ipython3",
   "version": "3.6.3"
  }
 },
 "nbformat": 4,
 "nbformat_minor": 2
}
